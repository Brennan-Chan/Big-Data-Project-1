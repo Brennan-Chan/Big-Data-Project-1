{
 "cells": [
  {
   "cell_type": "markdown",
   "id": "963e1985",
   "metadata": {},
   "source": [
    "# Project 1"
   ]
  },
  {
   "cell_type": "code",
   "execution_count": 1,
   "id": "0ed3a468",
   "metadata": {},
   "outputs": [
    {
     "name": "stderr",
     "output_type": "stream",
     "text": [
      "c:\\Users\\Brennan_Chan1\\Documents\\Virtual Enviornments\\py312\\Lib\\site-packages\\tqdm\\auto.py:21: TqdmWarning: IProgress not found. Please update jupyter and ipywidgets. See https://ipywidgets.readthedocs.io/en/stable/user_install.html\n",
      "  from .autonotebook import tqdm as notebook_tqdm\n"
     ]
    }
   ],
   "source": [
    "from sklearn.datasets import load_iris\n",
    "import numpy as np\n",
    "import matplotlib.pyplot as plt\n",
    "from matplotlib.colors import to_hex\n",
    "import pandas as pd\n",
    "\n",
    "from sklearn.preprocessing import StandardScaler, MinMaxScaler, RobustScaler, Normalizer\n",
    "from sklearn.cluster import KMeans\n",
    "from sklearn.manifold import TSNE, LocallyLinearEmbedding\n",
    "from sklearn.decomposition import PCA, SparsePCA, MiniBatchSparsePCA\n",
    "from umap import UMAP\n",
    "from sklearn.metrics import adjusted_mutual_info_score\n",
    "import torch, torch_directml as dml\n",
    "from matplotlib.colors import ListedColormap"
   ]
  },
  {
   "cell_type": "code",
   "execution_count": 2,
   "id": "460ac86e",
   "metadata": {},
   "outputs": [
    {
     "name": "stdout",
     "output_type": "stream",
     "text": [
      "backend OK: True\n",
      "using device: privateuseone:0\n",
      "torch device count (dml is logical 1): 1\n"
     ]
    }
   ],
   "source": [
    "# just to test if dml is working\n",
    "print(\"backend OK:\", hasattr(dml, \"device\"))\n",
    "print(\"using device:\", dml.device())\n",
    "print(\"torch device count (dml is logical 1):\", 1)"
   ]
  },
  {
   "cell_type": "markdown",
   "id": "a7adb87b",
   "metadata": {},
   "source": [
    "## PCA for Iris data"
   ]
  },
  {
   "cell_type": "code",
   "execution_count": 3,
   "id": "65e611cb",
   "metadata": {},
   "outputs": [],
   "source": [
    "# Load in the iris dataset \n",
    "iris_dat = load_iris()\n",
    "\n",
    "X = iris_dat.data  \n",
    "y = iris_dat.target\n",
    "\n",
    "feature_names = iris_dat.feature_names\n",
    "target_names = iris_dat.target_names"
   ]
  },
  {
   "cell_type": "code",
   "execution_count": 4,
   "id": "bfe49e77",
   "metadata": {},
   "outputs": [],
   "source": [
    "# Perform t-SNE on a dataset\n",
    "def do_tsne(X, n_components=2, method=\"barnes_hut\", perplexity=30, init=\"pca\", random_state=None):\n",
    "\n",
    "    X_proc = X.values if isinstance(X, pd.DataFrame) else np.asarray(X)\n",
    "\n",
    "    tsne = TSNE(\n",
    "        n_components=n_components,\n",
    "        perplexity=perplexity, \n",
    "        init=init, \n",
    "        learning_rate=\"auto\",\n",
    "        method= method, \n",
    "        random_state=random_state\n",
    "    )\n",
    "\n",
    "    X_tsne = tsne.fit_transform(X_proc)\n",
    "\n",
    "    return X_tsne\n",
    "\n",
    "# Preform UMAP on a dataset\n",
    "def do_UMAP(X, n_neighbors=15, n_components=2 ,min_dist=0.1, metric='euclidean',\n",
    "             init='spectral', random_state=None):\n",
    "\n",
    "    X_proc = X.values if isinstance(X, pd.DataFrame) else np.asarray(X)\n",
    "\n",
    "    umap = UMAP(\n",
    "        n_neighbors=n_neighbors,\n",
    "        min_dist=min_dist,\n",
    "        n_components=n_components,\n",
    "        init=init,                      #{random}\n",
    "        metric=metric,                  #{cosine}\n",
    "        random_state=random_state,\n",
    "        n_jobs=1\n",
    "    )\n",
    "\n",
    "    X_umap = umap.fit_transform(X_proc)\n",
    "\n",
    "    return X_umap\n",
    "\n",
    "# preform PCA on a dataset \n",
    "def do_PCA(X, n_components=2, whiten=False, svd_solver=\"auto\", iterated_power=\"auto\",\n",
    "           random_state=None, return_model=False):\n",
    "    \n",
    "    X_proc = X.values if isinstance(X, pd.DataFrame) else np.asarray(X)\n",
    "\n",
    "    pca = PCA(\n",
    "        n_components=n_components,\n",
    "        whiten=whiten,\n",
    "        svd_solver=svd_solver,          # {\"auto\",\"full\",\"arpack\",\"randomized\"}\n",
    "        iterated_power=iterated_power,  # int or \"auto\" (used by \"randomized\")\n",
    "        random_state=random_state\n",
    "    )\n",
    "    X_pca = pca.fit_transform(X_proc)\n",
    "\n",
    "    return (X_pca, pca) if return_model else X_pca\n",
    "\n",
    "# preform sparce PCA on a dataset \n",
    "def do_SPCA(X, n_components=2, alpha=1.0, ridge_alpha=0.01, max_iter=1000, tol=1e-8, method=\"sparse\", \n",
    "            batch_size=256, n_jobs=None, random_state=None, return_model = False):\n",
    "    \n",
    "    X_proc = X.values if isinstance(X, pd.DataFrame) else np.asarray(X)\n",
    "\n",
    "    # choose estimator\n",
    "    if method == \"minibatch\":\n",
    "        spca = MiniBatchSparsePCA(\n",
    "            n_components=n_components,  # int >= 1\n",
    "            alpha=alpha,                # float > 0 (ℓ1 sparsity strength)\n",
    "            ridge_alpha=ridge_alpha,    # float >= 0 (ridge penalty on codes)\n",
    "            n_jobs=n_jobs,\n",
    "            batch_size=batch_size,\n",
    "            max_iter=max_iter,\n",
    "            tol=tol,                    # float > 0\n",
    "            random_state=random_state\n",
    "        )\n",
    "    else:\n",
    "        spca = SparsePCA(\n",
    "            n_components=n_components,\n",
    "            alpha=alpha,\n",
    "            ridge_alpha=ridge_alpha,\n",
    "            n_jobs=n_jobs,\n",
    "            max_iter=max_iter,\n",
    "            tol=tol,\n",
    "            random_state=random_state\n",
    "        )\n",
    "        \n",
    "    # fit + transform to get low-dim codes (scores)\n",
    "    Z = spca.fit_transform(X_proc)   # shape: (n_samples, n_components)\n",
    "\n",
    "    return (Z, spca) if return_model else Z\n",
    "\n",
    "\n",
    "def do_LLE(X, n_components=2, n_neighbors=10, method=\"standard\",\n",
    "            eigen_solver=\"auto\", reg=1e-3, random_state=None, n_jobs=None):\n",
    "    # ensure numpy array\n",
    "    X_proc = X.values if isinstance(X, pd.DataFrame) else np.asarray(X)\n",
    "\n",
    "    lle = LocallyLinearEmbedding(\n",
    "        n_neighbors=n_neighbors,    # int >= 2\n",
    "        n_components=n_components,  # int >=1\n",
    "        method=method,              # {\"standard\",\"modified\",\"hessian\",\"ltsa\"}\n",
    "        eigen_solver=eigen_solver,  # {\"auto\",\"arpack\",\"dense\"}\n",
    "        reg=reg,                    # float >= 0 (ridge for reconstruction)\n",
    "        random_state=random_state,\n",
    "        n_jobs=n_jobs\n",
    "    )\n",
    "\n",
    "    X_lle = lle.fit_transform(X_proc)\n",
    "    \n",
    "    return X_lle"
   ]
  },
  {
   "cell_type": "code",
   "execution_count": 5,
   "id": "0d6ff4f9",
   "metadata": {},
   "outputs": [],
   "source": [
    "# the plotting function \n",
    "def plot_embeddings_grid(emb_dict, y, normalize=False, max_cols=3, figsize_per_plot=(5.2,4.2), s=28, alpha=0.9):\n",
    "    \"\"\"\n",
    "    emb_dict structure:\n",
    "      emb_dict[normalization_name][method_name] = {\"data\": 2D array, \"random_state\": int}\n",
    "\n",
    "    y: array-like labels (numeric or strings)\n",
    "    \"\"\"\n",
    "\n",
    "    # 1) Flatten items we will plot\n",
    "    items = []\n",
    "    for norm_name, methods in emb_dict.items():\n",
    "        for method_name, payload in methods.items():\n",
    "            if isinstance(payload, dict) and \"data\" in payload:\n",
    "                X2 = np.asarray(payload[\"data\"])\n",
    "                if X2.ndim == 2 and X2.shape[1] == 2:\n",
    "                    items.append((norm_name, method_name, X2, payload.get(\"random_state\", None)))\n",
    "    \n",
    "    # 2) Build a consistent label->color map across ALL subplots\n",
    "    y_arr = np.asarray(y)\n",
    "    seen = {}\n",
    "    for lbl in y_arr:\n",
    "        if lbl not in seen:\n",
    "            seen[lbl] = len(seen)\n",
    "    labels_order = list(seen.keys())\n",
    "\n",
    "    # Choose a fixed palette (expand if >10 classes)\n",
    "    base_colors = plt.rcParams['axes.prop_cycle'].by_key().get('color', ['C0','C1','C2','C3','C4','C5','C6','C7','C8','C9'])\n",
    "    if len(labels_order) > len(base_colors):\n",
    "        # repeat cycle if needed (rare for Iris)\n",
    "        repeats = int(np.ceil(len(labels_order)/len(base_colors)))\n",
    "        base_colors = (base_colors * repeats)[:len(labels_order)]\n",
    "    color_lookup = {lbl: base_colors[i] for i, lbl in enumerate(labels_order)}\n",
    "    cmap = ListedColormap([color_lookup[lbl] for lbl in labels_order])  # not used directly, kept for reference\n",
    "\n",
    "    # 3) Create grid\n",
    "    n_panels = len(items)\n",
    "    n_cols = min(max_cols, n_panels)\n",
    "    n_rows = int(np.ceil(n_panels / n_cols))\n",
    "    fig = plt.figure(figsize=(figsize_per_plot[0]*n_cols, figsize_per_plot[1]*n_rows))\n",
    "\n",
    "    # 4) Plot each embedding\n",
    "    for i, (norm_name, method_name, X2, seed) in enumerate(items, start=1):\n",
    "        ax = fig.add_subplot(n_rows, n_cols, i)\n",
    "        coords = X2 if not normalize else MinMaxScaler().fit_transform(X2)\n",
    "        for lbl in labels_order:\n",
    "            mask = (y_arr == lbl)\n",
    "            if np.any(mask):\n",
    "                ax.scatter(\n",
    "                    coords[mask, 0], coords[mask, 1],\n",
    "                    s=s, alpha=alpha, edgecolor=\"none\",\n",
    "                    c=[color_lookup[lbl]], label=str(lbl)\n",
    "                )\n",
    "\n",
    "        title = f\"{method_name} · {norm_name}\" + (f\" (seed={seed})\" if seed is not None else \"\")\n",
    "        ax.set_title(title, pad=10)\n",
    "        ax.set_xlabel(\"Dim 1\")\n",
    "        ax.set_ylabel(\"Dim 2\")\n",
    "        ax.set_aspect(\"equal\", adjustable=\"datalim\")\n",
    "        ax.grid(True, linewidth=0.3, alpha=0.4)\n",
    "\n",
    "        # show legend only on first subplot to reduce clutter\n",
    "        if i == 1:\n",
    "            ax.legend(frameon=True, title=\"Label\", loc=\"best\")\n",
    "\n",
    "    fig.tight_layout()\n",
    "    return fig"
   ]
  },
  {
   "cell_type": "markdown",
   "id": "b51e3828",
   "metadata": {},
   "source": [
    "### Do PCA, and sparse PCA, t-SNE, UMAP, locally linear embedding (LLE) visualizations for Iris data under different normalization methods"
   ]
  },
  {
   "cell_type": "code",
   "execution_count": 6,
   "id": "ff467fa3",
   "metadata": {},
   "outputs": [],
   "source": [
    "# first lets choose some normalization methods\n",
    "scalers = {\n",
    "    \"StandardScaler\": StandardScaler(),      # Baseline \n",
    "    \"MinMaxScaler\": MinMaxScaler(),          # defaults to [0,1]\n",
    "    \"RobustScaler\": RobustScaler(),          # median/IQR scaling\n",
    "    \"Normalizer(L2_rowwise)\": Normalizer()   # row-wise normalization (conceptually different)\n",
    "}\n",
    "\n",
    "scaled_data = {}\n",
    "for name, scaler in scalers.items():\n",
    "    X_scaled = scaler.fit_transform(X)\n",
    "    scaled_data[f\"{name}-Data\"] = X_scaled\n",
    "\n",
    "# predicting that StandardScalar and MinMax will preform the best "
   ]
  },
  {
   "cell_type": "code",
   "execution_count": 7,
   "id": "2b157888",
   "metadata": {},
   "outputs": [],
   "source": [
    "# for reproducability use a random seed\n",
    "random_seed = 67\n",
    "iris_transformed = {}\n",
    "\n",
    "# get all of the data transformations after the normalizations\n",
    "for name, data in scaled_data.items():\n",
    "    iris_transformed[name] = {\n",
    "        \"PCA\": {\n",
    "            \"data\" : do_PCA(X=data, random_state=random_seed),\n",
    "            \"random_state\": random_seed\n",
    "        },\n",
    "        \"SPCA\": {\n",
    "            \"data\" : do_SPCA(X=data, random_state=random_seed),\n",
    "            \"random_state\": random_seed\n",
    "        },\n",
    "        \"tSNE\": {\n",
    "            \"data\" : do_tsne(X=data, random_state=random_seed),\n",
    "            \"random_state\": random_seed\n",
    "        },\n",
    "        \"UMAP\": {\n",
    "            \"data\" : do_UMAP(X=data, random_state=random_seed),\n",
    "            \"random_state\": random_seed\n",
    "        },\n",
    "        \"LLE\": {\n",
    "            \"data\" : do_LLE(X=data, random_state=random_seed),\n",
    "            \"random_state\": random_seed\n",
    "        }\n",
    "    }"
   ]
  },
  {
   "cell_type": "code",
   "execution_count": 11,
   "id": "aece5b72",
   "metadata": {},
   "outputs": [
    {
     "ename": "IndexError",
     "evalue": "boolean index did not match indexed array along axis 0; size of axis is 150 but size of corresponding boolean axis is 3",
     "output_type": "error",
     "traceback": [
      "\u001b[31m---------------------------------------------------------------------------\u001b[39m",
      "\u001b[31mIndexError\u001b[39m                                Traceback (most recent call last)",
      "\u001b[36mCell\u001b[39m\u001b[36m \u001b[39m\u001b[32mIn[11]\u001b[39m\u001b[32m, line 1\u001b[39m\n\u001b[32m----> \u001b[39m\u001b[32m1\u001b[39m \u001b[43mplot_embeddings_grid\u001b[49m\u001b[43m(\u001b[49m\u001b[43memb_dict\u001b[49m\u001b[43m=\u001b[49m\u001b[43miris_transformed\u001b[49m\u001b[43m,\u001b[49m\u001b[43m \u001b[49m\u001b[43my\u001b[49m\u001b[43m \u001b[49m\u001b[43m=\u001b[49m\u001b[43m \u001b[49m\u001b[43mtarget_names\u001b[49m\u001b[43m)\u001b[49m  \n",
      "\u001b[36mCell\u001b[39m\u001b[36m \u001b[39m\u001b[32mIn[5]\u001b[39m\u001b[32m, line 50\u001b[39m, in \u001b[36mplot_embeddings_grid\u001b[39m\u001b[34m(emb_dict, y, normalize, max_cols, figsize_per_plot, s, alpha)\u001b[39m\n\u001b[32m     47\u001b[39m     mask = (y_arr == lbl)\n\u001b[32m     48\u001b[39m     \u001b[38;5;28;01mif\u001b[39;00m np.any(mask):\n\u001b[32m     49\u001b[39m         ax.scatter(\n\u001b[32m---> \u001b[39m\u001b[32m50\u001b[39m             \u001b[43mcoords\u001b[49m\u001b[43m[\u001b[49m\u001b[43mmask\u001b[49m\u001b[43m,\u001b[49m\u001b[43m \u001b[49m\u001b[32;43m0\u001b[39;49m\u001b[43m]\u001b[49m, coords[mask, \u001b[32m1\u001b[39m],\n\u001b[32m     51\u001b[39m             s=s, alpha=alpha, edgecolor=\u001b[33m\"\u001b[39m\u001b[33mnone\u001b[39m\u001b[33m\"\u001b[39m,\n\u001b[32m     52\u001b[39m             c=[color_lookup[lbl]], label=\u001b[38;5;28mstr\u001b[39m(lbl)\n\u001b[32m     53\u001b[39m         )\n\u001b[32m     55\u001b[39m title = \u001b[33mf\u001b[39m\u001b[33m\"\u001b[39m\u001b[38;5;132;01m{\u001b[39;00mmethod_name\u001b[38;5;132;01m}\u001b[39;00m\u001b[33m · \u001b[39m\u001b[38;5;132;01m{\u001b[39;00mnorm_name\u001b[38;5;132;01m}\u001b[39;00m\u001b[33m\"\u001b[39m + (\u001b[33mf\u001b[39m\u001b[33m\"\u001b[39m\u001b[33m (seed=\u001b[39m\u001b[38;5;132;01m{\u001b[39;00mseed\u001b[38;5;132;01m}\u001b[39;00m\u001b[33m)\u001b[39m\u001b[33m\"\u001b[39m \u001b[38;5;28;01mif\u001b[39;00m seed \u001b[38;5;129;01mis\u001b[39;00m \u001b[38;5;129;01mnot\u001b[39;00m \u001b[38;5;28;01mNone\u001b[39;00m \u001b[38;5;28;01melse\u001b[39;00m \u001b[33m\"\u001b[39m\u001b[33m\"\u001b[39m)\n\u001b[32m     56\u001b[39m ax.set_title(title, pad=\u001b[32m10\u001b[39m)\n",
      "\u001b[31mIndexError\u001b[39m: boolean index did not match indexed array along axis 0; size of axis is 150 but size of corresponding boolean axis is 3"
     ]
    },
    {
     "data": {
      "image/png": "[encoded data removed]",
      "text/plain": [
       "<Figure size 1560x2940 with 1 Axes>"
      ]
     },
     "metadata": {},
     "output_type": "display_data"
    }
   ],
   "source": [
    "plot_embeddings_grid(emb_dict=iris_transformed, y = target_names)  "
   ]
  }
 ],
 "metadata": {
  "kernelspec": {
   "display_name": "py312",
   "language": "python",
   "name": "python3"
  },
  "language_info": {
   "codemirror_mode": {
    "name": "ipython",
    "version": 3
   },
   "file_extension": ".py",
   "mimetype": "text/x-python",
   "name": "python",
   "nbconvert_exporter": "python",
   "pygments_lexer": "ipython3",
   "version": "3.12.0"
  }
 },
 "nbformat": 4,
 "nbformat_minor": 5
}
